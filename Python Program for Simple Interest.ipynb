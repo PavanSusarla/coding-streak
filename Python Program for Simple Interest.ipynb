{
 "cells": [
  {
   "cell_type": "markdown",
   "id": "baca7bd8",
   "metadata": {},
   "source": [
    "Simple interest formula is given by: Simple Interest = (P x T x R)/100 Where, P is the principal amount T is the time and R is the rate"
   ]
  },
  {
   "cell_type": "code",
   "execution_count": 6,
   "id": "caa0ca4e",
   "metadata": {},
   "outputs": [
    {
     "name": "stdout",
     "output_type": "stream",
     "text": [
      "simple intrest is 3.84\n"
     ]
    }
   ],
   "source": [
    "def SI(p,t,r):\n",
    "    #return (p*t*r)/100\n",
    "    print(f\"simple intrest is {(p*t*r)/100}\")\n",
    "SI(8,6,8)"
   ]
  },
  {
   "cell_type": "code",
   "execution_count": null,
   "id": "ddf732d7",
   "metadata": {},
   "outputs": [],
   "source": []
  }
 ],
 "metadata": {
  "kernelspec": {
   "display_name": "Python 3 (ipykernel)",
   "language": "python",
   "name": "python3"
  },
  "language_info": {
   "codemirror_mode": {
    "name": "ipython",
    "version": 3
   },
   "file_extension": ".py",
   "mimetype": "text/x-python",
   "name": "python",
   "nbconvert_exporter": "python",
   "pygments_lexer": "ipython3",
   "version": "3.11.5"
  }
 },
 "nbformat": 4,
 "nbformat_minor": 5
}
